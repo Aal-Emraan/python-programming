{
 "cells": [
  {
   "cell_type": "code",
   "execution_count": null,
   "metadata": {},
   "outputs": [],
   "source": [
    "print(\"hello world\")"
   ]
  },
  {
   "cell_type": "code",
   "execution_count": 1,
   "metadata": {},
   "outputs": [
    {
     "name": "stdout",
     "output_type": "stream",
     "text": [
      "a is less than b\n",
      "a is obviously less than b\n",
      "not sure a is less than b\n"
     ]
    }
   ],
   "source": [
    "a = 1\n",
    "b = 2\n",
    "if a < b:\n",
    "    print(\"a is less than b\")\n",
    "    print(\"a is obviously less than b\")\n",
    "print(\"not sure a is less than b\")"
   ]
  },
  {
   "cell_type": "code",
   "execution_count": 2,
   "metadata": {},
   "outputs": [
    {
     "name": "stdout",
     "output_type": "stream",
     "text": [
      "c is less than d\n"
     ]
    }
   ],
   "source": [
    "c = 4\n",
    "d = 5\n",
    "if c<d:\n",
    "    print(\"c is less than d\")\n",
    "elif c == d:\n",
    "    print(\"c is equal to d\")\n",
    "else:\n",
    "    print(\"c is greater than d\")"
   ]
  },
  {
   "cell_type": "code",
   "execution_count": 5,
   "metadata": {},
   "outputs": [
    {
     "name": "stdout",
     "output_type": "stream",
     "text": [
      "Aal Emraan\n",
      "Your bmi is:\n",
      "20.830703194041156\n",
      "Aal Emraan is in perfect weight\n"
     ]
    }
   ],
   "source": [
    "name = \"Aal Emraan\"\n",
    "height_m = 1.78\n",
    "weight_kg = 66\n",
    "\n",
    "bmi = weight_kg / (height_m ** 2)\n",
    "print(name)\n",
    "print(\"Your bmi is:\")\n",
    "print(bmi)\n",
    "if bmi<18:\n",
    "    print(name + \" is underweight\")\n",
    "elif bmi>25:\n",
    "    print(name + \" is overweight\")\n",
    "else:\n",
    "    print(name + \" is in perfect weight\")"
   ]
  },
  {
   "cell_type": "code",
   "execution_count": null,
   "metadata": {},
   "outputs": [],
   "source": []
  }
 ],
 "metadata": {
  "kernelspec": {
   "display_name": "Python 3",
   "language": "python",
   "name": "python3"
  },
  "language_info": {
   "codemirror_mode": {
    "name": "ipython",
    "version": 3
   },
   "file_extension": ".py",
   "mimetype": "text/x-python",
   "name": "python",
   "nbconvert_exporter": "python",
   "pygments_lexer": "ipython3",
   "version": "3.7.6"
  }
 },
 "nbformat": 4,
 "nbformat_minor": 4
}
