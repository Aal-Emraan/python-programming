{
 "cells": [
  {
   "cell_type": "code",
   "execution_count": null,
   "metadata": {},
   "outputs": [
    {
     "name": "stdout",
     "output_type": "stream",
     "text": [
      "Enter your nameAal Emraan\n",
      "Enter your height in meter1.78\n"
     ]
    }
   ],
   "source": [
    "name = input(\"Enter your name\")\n",
    "height = float(input(\"Enter your height in meter\"))\n",
    "weight = float(input(\"Enter your weight in kgs\"))\n",
    "bmi = weight / (height ** 2)\n",
    "print(\"Hi,\" + \" \"+ name)\n",
    "print(\"your bmi is: \")\n",
    "print(bmi)\n",
    "if bmi<18.5:\n",
    "    print(\"You are underweight\")\n",
    "elif bmi<= 25:\n",
    "    print(\"You are perfect weight\")\n",
    "else:\n",
    "    print(\"You are overweight\")"
   ]
  },
  {
   "cell_type": "code",
   "execution_count": null,
   "metadata": {},
   "outputs": [],
   "source": []
  }
 ],
 "metadata": {
  "kernelspec": {
   "display_name": "Python 3",
   "language": "python",
   "name": "python3"
  },
  "language_info": {
   "codemirror_mode": {
    "name": "ipython",
    "version": 3
   },
   "file_extension": ".py",
   "mimetype": "text/x-python",
   "name": "python",
   "nbconvert_exporter": "python",
   "pygments_lexer": "ipython3",
   "version": "3.7.6"
  }
 },
 "nbformat": 4,
 "nbformat_minor": 4
}
